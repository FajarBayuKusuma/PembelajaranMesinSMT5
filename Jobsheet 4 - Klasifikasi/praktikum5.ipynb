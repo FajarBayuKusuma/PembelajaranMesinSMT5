{
 "cells": [
  {
   "cell_type": "markdown",
   "metadata": {},
   "source": [
    "**Import Library**"
   ]
  },
  {
   "cell_type": "code",
   "execution_count": 31,
   "metadata": {},
   "outputs": [],
   "source": [
    "# Import Required Libraries\n",
    "from pathlib import Path\n",
    "import matplotlib.image as mpimg\n",
    "import matplotlib.pyplot as plt\n",
    "import cv2\n",
    "import random\n",
    "import numpy as np\n",
    "import pandas as pd"
   ]
  },
  {
   "cell_type": "code",
   "execution_count": 32,
   "metadata": {},
   "outputs": [],
   "source": [
    "# Image directories\n",
    "train_dir = \"images/training/\"\n",
    "test_dir = \"images/test/\""
   ]
  },
  {
   "cell_type": "markdown",
   "metadata": {},
   "source": [
    "***Langkah 1 - Load Data dan Visualisasikan***"
   ]
  },
  {
   "cell_type": "code",
   "execution_count": 33,
   "metadata": {},
   "outputs": [],
   "source": [
    "def load_dataset(img_dir):\n",
    "    p = Path(img_dir) #dibaca dengan kode ini\n",
    "    dirs = p.glob('*')\n",
    "\n",
    "    img_list = [] #digunakan listing semua file dalam glob akan dapat directori day dan night\n",
    "\n",
    "    for dir in dirs:\n",
    "        print(f'sekarang di direktori {dir}')\n",
    "        label = str(dir).split('/')[-1]\n",
    "        for file in dir.glob('*.jpg'): #membaca gambar\n",
    "            \n",
    "            img = mpimg.imread(file)\n",
    "\n",
    "            if not img is None:\n",
    "                img_list.append((img, label))\n",
    "    \n",
    "    return img_list"
   ]
  },
  {
   "cell_type": "code",
   "execution_count": 34,
   "metadata": {},
   "outputs": [],
   "source": [
    "# Load training data\n",
    "train_img = load_dataset(train_dir)"
   ]
  },
  {
   "cell_type": "markdown",
   "metadata": {},
   "source": [
    "Lakukan pengecekan pada salah satu data pada list. List harus berisi tuple dengan dua data, yaitu data gambar dan label dari gambar."
   ]
  },
  {
   "cell_type": "code",
   "execution_count": 35,
   "metadata": {},
   "outputs": [
    {
     "ename": "IndexError",
     "evalue": "list index out of range",
     "output_type": "error",
     "traceback": [
      "\u001b[1;31m---------------------------------------------------------------------------\u001b[0m",
      "\u001b[1;31mIndexError\u001b[0m                                Traceback (most recent call last)",
      "Cell \u001b[1;32mIn[35], line 3\u001b[0m\n\u001b[0;32m      1\u001b[0m \u001b[38;5;66;03m# Check the first data\u001b[39;00m\n\u001b[0;32m      2\u001b[0m \u001b[38;5;66;03m# It should be a tuple consist of arrays of image and image labels\u001b[39;00m\n\u001b[1;32m----> 3\u001b[0m train_img[\u001b[38;5;241m0\u001b[39m]\n",
      "\u001b[1;31mIndexError\u001b[0m: list index out of range"
     ]
    }
   ],
   "source": [
    "# Check the first data\n",
    "# It should be a tuple consist of arrays of image and image labels\n",
    "train_img[0]"
   ]
  },
  {
   "cell_type": "markdown",
   "metadata": {},
   "source": [
    "Cek ukuran gambar secara acak"
   ]
  },
  {
   "cell_type": "code",
   "execution_count": 30,
   "metadata": {},
   "outputs": [
    {
     "ename": "ValueError",
     "evalue": "high <= 0",
     "output_type": "error",
     "traceback": [
      "\u001b[1;31m---------------------------------------------------------------------------\u001b[0m",
      "\u001b[1;31mValueError\u001b[0m                                Traceback (most recent call last)",
      "Cell \u001b[1;32mIn[30], line 2\u001b[0m\n\u001b[0;32m      1\u001b[0m \u001b[38;5;66;03m# Random size checking\u001b[39;00m\n\u001b[1;32m----> 2\u001b[0m pick_random \u001b[38;5;241m=\u001b[39m np\u001b[38;5;241m.\u001b[39mrandom\u001b[38;5;241m.\u001b[39mrandint(\u001b[38;5;241m0\u001b[39m, \u001b[38;5;28mlen\u001b[39m(train_img))\n\u001b[0;32m      4\u001b[0m \u001b[38;5;66;03m# Check img size\u001b[39;00m\n\u001b[0;32m      5\u001b[0m \u001b[38;5;28mprint\u001b[39m(\u001b[38;5;124mf\u001b[39m\u001b[38;5;124m'\u001b[39m\u001b[38;5;124mImage \u001b[39m\u001b[38;5;132;01m{\u001b[39;00mpick_random\u001b[38;5;132;01m}\u001b[39;00m\u001b[38;5;124m'\u001b[39m)\n",
      "File \u001b[1;32mnumpy\\\\random\\\\mtrand.pyx:780\u001b[0m, in \u001b[0;36mnumpy.random.mtrand.RandomState.randint\u001b[1;34m()\u001b[0m\n",
      "File \u001b[1;32mnumpy\\\\random\\\\_bounded_integers.pyx:1425\u001b[0m, in \u001b[0;36mnumpy.random._bounded_integers._rand_int32\u001b[1;34m()\u001b[0m\n",
      "\u001b[1;31mValueError\u001b[0m: high <= 0"
     ]
    }
   ],
   "source": [
    "# Random size checking\n",
    "pick_random = np.random.randint(0, len(train_img))\n",
    "\n",
    "# Check img size\n",
    "print(f'Image {pick_random}')\n",
    "print(train_img[pick_random][0].shape)"
   ]
  },
  {
   "cell_type": "markdown",
   "metadata": {},
   "source": [
    "Tampilkan gambar untuk inspeksi secara visual. Buatlah fungsi untuk membantu memvisualkan gambar"
   ]
  },
  {
   "cell_type": "code",
   "execution_count": 27,
   "metadata": {},
   "outputs": [],
   "source": [
    "# Function to Visualize\n",
    "def random_img_viz(img_list):\n",
    "    rand_num = np.random.randint(0, len(img_list))\n",
    "\n",
    "    img = img_list[rand_num][0]\n",
    "    label = img_list[rand_num][1]\n",
    "    label_str = 'day' if label == 1 else 'night'\n",
    "\n",
    "    plt.imshow(img)\n",
    "    print(f'Shape\\t: {img.shape}')\n",
    "    print(f'Label\\t: {label}')"
   ]
  },
  {
   "cell_type": "markdown",
   "metadata": {},
   "source": [
    "Lakukan visualisasi gambar secara acak"
   ]
  },
  {
   "cell_type": "code",
   "execution_count": 28,
   "metadata": {},
   "outputs": [
    {
     "ename": "ValueError",
     "evalue": "high <= 0",
     "output_type": "error",
     "traceback": [
      "\u001b[1;31m---------------------------------------------------------------------------\u001b[0m",
      "\u001b[1;31mValueError\u001b[0m                                Traceback (most recent call last)",
      "Cell \u001b[1;32mIn[28], line 1\u001b[0m\n\u001b[1;32m----> 1\u001b[0m random_img_viz(train_img)\n",
      "Cell \u001b[1;32mIn[27], line 3\u001b[0m, in \u001b[0;36mrandom_img_viz\u001b[1;34m(img_list)\u001b[0m\n\u001b[0;32m      2\u001b[0m \u001b[38;5;28;01mdef\u001b[39;00m \u001b[38;5;21mrandom_img_viz\u001b[39m(img_list):\n\u001b[1;32m----> 3\u001b[0m     rand_num \u001b[38;5;241m=\u001b[39m np\u001b[38;5;241m.\u001b[39mrandom\u001b[38;5;241m.\u001b[39mrandint(\u001b[38;5;241m0\u001b[39m, \u001b[38;5;28mlen\u001b[39m(img_list))\n\u001b[0;32m      5\u001b[0m     img \u001b[38;5;241m=\u001b[39m img_list[rand_num][\u001b[38;5;241m0\u001b[39m]\n\u001b[0;32m      6\u001b[0m     label \u001b[38;5;241m=\u001b[39m img_list[rand_num][\u001b[38;5;241m1\u001b[39m]\n",
      "File \u001b[1;32mnumpy\\\\random\\\\mtrand.pyx:780\u001b[0m, in \u001b[0;36mnumpy.random.mtrand.RandomState.randint\u001b[1;34m()\u001b[0m\n",
      "File \u001b[1;32mnumpy\\\\random\\\\_bounded_integers.pyx:1425\u001b[0m, in \u001b[0;36mnumpy.random._bounded_integers._rand_int32\u001b[1;34m()\u001b[0m\n",
      "\u001b[1;31mValueError\u001b[0m: high <= 0"
     ]
    }
   ],
   "source": [
    "random_img_viz(train_img)"
   ]
  },
  {
   "cell_type": "code",
   "execution_count": 29,
   "metadata": {},
   "outputs": [],
   "source": [
    "def standarized_input(image):\n",
    "    # resize to w: 1100, h:600\n",
    "    std_img = cv2.resize(image, (1100,600))\n",
    "    #open cv widht x height kolom baris\n",
    "    #konteks shpe height x widht baris kolom\n",
    "\n",
    "    return std_img"
   ]
  },
  {
   "cell_type": "code",
   "execution_count": 6,
   "metadata": {},
   "outputs": [],
   "source": [
    "def label_encoder(label):\n",
    "    # Encode the label\n",
    "    # day as 1; night as 0\n",
    "    num_val = 0\n",
    "\n",
    "    if(label == 'day'):\n",
    "        num_val = 1\n",
    "    \n",
    "    return num_val"
   ]
  },
  {
   "cell_type": "code",
   "execution_count": 7,
   "metadata": {},
   "outputs": [],
   "source": [
    "# Get feature based on average brightness using HSV colorspace\n",
    "def avg_brightness(image):\n",
    "    # Convert image to HSV\n",
    "    img_hsv = cv2.cvtColor(image, cv2.COLOR_RGB2HSV)\n",
    "    #hsv channel 0=h, s=1, v=2 teteap 3 dimensi\n",
    "    # Calculate the avg of brightness\n",
    "    sum_brightness = np.sum(img_hsv[:,:,2]) # take the 3rb value which is the V channel\n",
    "    area = image.shape[0] * image.shape[1]\n",
    "    avg = sum_brightness / area\n",
    "\n",
    "    return avg"
   ]
  },
  {
   "cell_type": "code",
   "execution_count": 8,
   "metadata": {},
   "outputs": [],
   "source": [
    "def predict_label(img, threshold):\n",
    "    # Computer average brightness\n",
    "    avg = avg_brightness(img)\n",
    "    pred = 0\n",
    "\n",
    "    # Predict the label based on user defined threshold\n",
    "    if avg > threshold:\n",
    "        pred = 1\n",
    "    \n",
    "    return pred"
   ]
  },
  {
   "cell_type": "code",
   "execution_count": 9,
   "metadata": {},
   "outputs": [
    {
     "ename": "NameError",
     "evalue": "name 'train_std_img_list' is not defined",
     "output_type": "error",
     "traceback": [
      "\u001b[1;31m---------------------------------------------------------------------------\u001b[0m",
      "\u001b[1;31mNameError\u001b[0m                                 Traceback (most recent call last)",
      "Cell \u001b[1;32mIn[9], line 2\u001b[0m\n\u001b[0;32m      1\u001b[0m \u001b[38;5;66;03m# Test the classifier on train data\u001b[39;00m\n\u001b[1;32m----> 2\u001b[0m rand_img \u001b[38;5;241m=\u001b[39m np\u001b[38;5;241m.\u001b[39mrandom\u001b[38;5;241m.\u001b[39mrandint(\u001b[38;5;241m0\u001b[39m, \u001b[38;5;28mlen\u001b[39m(train_std_img_list))\n\u001b[0;32m      4\u001b[0m pred \u001b[38;5;241m=\u001b[39m predict_label(train_std_img_list[rand_img][\u001b[38;5;241m0\u001b[39m], threshold\u001b[38;5;241m=\u001b[39m\u001b[38;5;241m120\u001b[39m)\n\u001b[0;32m      6\u001b[0m \u001b[38;5;66;03m# Evaluate\u001b[39;00m\n",
      "\u001b[1;31mNameError\u001b[0m: name 'train_std_img_list' is not defined"
     ]
    }
   ],
   "source": [
    "# Test the classifier on train data\n",
    "rand_img = np.random.randint(0, len(train_std_img_list))\n",
    "\n",
    "pred = predict_label(train_std_img_list[rand_img][0], threshold=120)\n",
    "\n",
    "# Evaluate\n",
    "print(f'Image {rand_img}')\n",
    "print(f'Actual label: {train_std_img_list[rand_img][1]}')\n",
    "print(f'Predicted label: {pred}')\n",
    "plt.imshow(train_std_img_list[rand_img][0])"
   ]
  },
  {
   "cell_type": "markdown",
   "metadata": {},
   "source": [
    "mencoba semua data dan dibagi jumlah datanya"
   ]
  },
  {
   "cell_type": "code",
   "execution_count": null,
   "metadata": {},
   "outputs": [],
   "source": [
    "def evaluate(img_list, threshold):\n",
    "    miss_labels = []\n",
    "\n",
    "    for file in img_list:\n",
    "        # Get the ground truth / correct label\n",
    "        img = file[0]\n",
    "        label = file[1]\n",
    "\n",
    "        # Get prediction\n",
    "        pred_label = predict_label(img, threshold)\n",
    "\n",
    "        # Compare ground truth and pred\n",
    "        if pred_label != label:\n",
    "            miss_labels.append((img, pred_label, label))\n",
    "    \n",
    "    total_img = len(img_list)\n",
    "    corr_pred = total_img - len(miss_labels)\n",
    "    accuracy = corr_pred / total_img\n",
    "\n",
    "    print(f'Accuracy: {accuracy:.4f}')\n",
    "    #.4f mengeluarkan 4 angka dibelakang koma"
   ]
  }
 ],
 "metadata": {
  "kernelspec": {
   "display_name": "base",
   "language": "python",
   "name": "python3"
  },
  "language_info": {
   "codemirror_mode": {
    "name": "ipython",
    "version": 3
   },
   "file_extension": ".py",
   "mimetype": "text/x-python",
   "name": "python",
   "nbconvert_exporter": "python",
   "pygments_lexer": "ipython3",
   "version": "3.12.4"
  }
 },
 "nbformat": 4,
 "nbformat_minor": 2
}
